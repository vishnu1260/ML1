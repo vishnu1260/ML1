{
  "nbformat": 4,
  "nbformat_minor": 0,
  "metadata": {
    "colab": {
      "provenance": [],
      "authorship_tag": "ABX9TyMkIWM6qsU6UhAS6YvJhkD7",
      "include_colab_link": true
    },
    "kernelspec": {
      "name": "python3",
      "display_name": "Python 3"
    },
    "language_info": {
      "name": "python"
    }
  },
  "cells": [
    {
      "cell_type": "markdown",
      "metadata": {
        "id": "view-in-github",
        "colab_type": "text"
      },
      "source": [
        "<a href=\"https://colab.research.google.com/github/vishnu1260/ML1/blob/main/Step8.ipynb\" target=\"_parent\"><img src=\"https://colab.research.google.com/assets/colab-badge.svg\" alt=\"Open In Colab\"/></a>"
      ]
    },
    {
      "cell_type": "code",
      "execution_count": 1,
      "metadata": {
        "id": "8uQPCOQrAoQv"
      },
      "outputs": [],
      "source": [
        "import numpy as np\n"
      ]
    },
    {
      "cell_type": "code",
      "source": [
        "import pandas as pd"
      ],
      "metadata": {
        "id": "Cjzr2gxjBNxL"
      },
      "execution_count": 2,
      "outputs": []
    },
    {
      "cell_type": "code",
      "source": [
        "def decision_matrix(x,y,wx,wy,size):\n",
        "  {\n",
        "\"\"\"\n",
        "Parameters:\n",
        "x(array-like): Criteria 1 data.\n",
        "y(array-like): Criteria 2 data.\n",
        "wx(float): weight for Criteria 1.\n",
        "wy(float): weight for Criteria 2.\n",
        "size(int) : size of the decision_matrix.\n",
        "Returns:\n",
        "pd.DataFrame : Decision Matrix.\n",
        "\"\"\"\n",
        "  }"
      ],
      "metadata": {
        "id": "zWXZUa9PBeZM"
      },
      "execution_count": 3,
      "outputs": []
    },
    {
      "cell_type": "code",
      "source": [
        "!pip install matplotlib-venn\n",
        "!apt-get -qq install -y libfluidsynth1\n",
        "from re import X\n",
        "x = np.array(X)\n",
        "Y = 4\n",
        "y = np.array(Y)\n",
        "size = 3\n",
        "WX = 0.4\n",
        "WY = 0.6\n",
        "#if len(x)!= size or len(y)!= size:\n",
        "# raise ValueError(\"The length of x and y must be equal to size.\")\n",
        "weightedx = WX * X\n",
        "weightedy = WY * Y\n",
        "#decision_matrix == pd.DataFrame({\n",
        " #   'Criteria 1' : weightedx,\n",
        "  #  'Criteria 2' : weightedy\n",
        "# })\n",
        "#return decision_matrix\n",
        "x = [0.5,0.6,0.7]\n",
        "y = [0.8,0.9,1.0]\n",
        "WX = 0.4\n",
        "WY = 0.6\n",
        "size = 3\n",
        "df = pd.DataFrame\n",
        "#df == decision_matrix[x,y,WX,WY,size]\n",
        "print(df)"
      ],
      "metadata": {
        "colab": {
          "base_uri": "https://localhost:8080/"
        },
        "id": "g4PUnU_OFH30",
        "outputId": "185876a3-36e0-43bb-9263-c474697ab75c"
      },
      "execution_count": 8,
      "outputs": [
        {
          "output_type": "stream",
          "name": "stdout",
          "text": [
            "Requirement already satisfied: matplotlib-venn in /usr/local/lib/python3.10/dist-packages (1.1.1)\n",
            "Requirement already satisfied: matplotlib in /usr/local/lib/python3.10/dist-packages (from matplotlib-venn) (3.10.0)\n",
            "Requirement already satisfied: numpy in /usr/local/lib/python3.10/dist-packages (from matplotlib-venn) (1.26.4)\n",
            "Requirement already satisfied: scipy in /usr/local/lib/python3.10/dist-packages (from matplotlib-venn) (1.13.1)\n",
            "Requirement already satisfied: contourpy>=1.0.1 in /usr/local/lib/python3.10/dist-packages (from matplotlib->matplotlib-venn) (1.3.1)\n",
            "Requirement already satisfied: cycler>=0.10 in /usr/local/lib/python3.10/dist-packages (from matplotlib->matplotlib-venn) (0.12.1)\n",
            "Requirement already satisfied: fonttools>=4.22.0 in /usr/local/lib/python3.10/dist-packages (from matplotlib->matplotlib-venn) (4.55.3)\n",
            "Requirement already satisfied: kiwisolver>=1.3.1 in /usr/local/lib/python3.10/dist-packages (from matplotlib->matplotlib-venn) (1.4.8)\n",
            "Requirement already satisfied: packaging>=20.0 in /usr/local/lib/python3.10/dist-packages (from matplotlib->matplotlib-venn) (24.2)\n",
            "Requirement already satisfied: pillow>=8 in /usr/local/lib/python3.10/dist-packages (from matplotlib->matplotlib-venn) (11.1.0)\n",
            "Requirement already satisfied: pyparsing>=2.3.1 in /usr/local/lib/python3.10/dist-packages (from matplotlib->matplotlib-venn) (3.2.1)\n",
            "Requirement already satisfied: python-dateutil>=2.7 in /usr/local/lib/python3.10/dist-packages (from matplotlib->matplotlib-venn) (2.8.2)\n",
            "Requirement already satisfied: six>=1.5 in /usr/local/lib/python3.10/dist-packages (from python-dateutil>=2.7->matplotlib->matplotlib-venn) (1.17.0)\n",
            "E: Package 'libfluidsynth1' has no installation candidate\n",
            "<class 'pandas.core.frame.DataFrame'>\n"
          ]
        }
      ]
    }
  ]
}